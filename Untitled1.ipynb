{
 "cells": [
  {
   "cell_type": "code",
   "execution_count": 3,
   "id": "f495e7f0",
   "metadata": {},
   "outputs": [],
   "source": [
    "import numpy as np\n",
    "import os\n",
    "from scipy.interpolate import griddata"
   ]
  },
  {
   "cell_type": "code",
   "execution_count": 7,
   "id": "62052a4c",
   "metadata": {},
   "outputs": [],
   "source": [
    "mainfolder='airfoil2d/airFoil_500/'"
   ]
  },
  {
   "cell_type": "code",
   "execution_count": 8,
   "id": "c06889ee",
   "metadata": {},
   "outputs": [
    {
     "name": "stdout",
     "output_type": "stream",
     "text": [
      "airfoil2d/airFoil_500/\n",
      "airFoil_500_0\n",
      "airFoil_500_20\n",
      "airFoil_500_40\n"
     ]
    }
   ],
   "source": [
    "    print(mainfolder)\n",
    "    mainfolderV=mainfolder+'/VTK/'\n",
    "    subfolders = os.listdir(mainfolderV)\n",
    "\n",
    "    folder = []\n",
    "    files = []\n",
    "\n",
    "    for j in subfolders:\n",
    "        #print(mainfolder+'VTK/'+j)\n",
    "        if os.path.isdir(mainfolderV+j) == True: \n",
    "            print(j)\n",
    "            folder.append(j)\n",
    "            files.append(j+'/'+'internal.vtu')\n",
    "    id=[]\n",
    "    for txt in folder:\n",
    "        t=txt.split('_')\n",
    "        id.append(int(t[len(t)-1]))\n",
    "    index_max=np.argmax(id)\n",
    "    path2msh=mainfolderV+files[index_max]"
   ]
  },
  {
   "cell_type": "code",
   "execution_count": 9,
   "id": "1067aaee",
   "metadata": {},
   "outputs": [
    {
     "name": "stdout",
     "output_type": "stream",
     "text": [
      "40\n"
     ]
    }
   ],
   "source": [
    "print(id[index_max])"
   ]
  },
  {
   "cell_type": "code",
   "execution_count": null,
   "id": "86427a92",
   "metadata": {},
   "outputs": [],
   "source": []
  }
 ],
 "metadata": {
  "kernelspec": {
   "display_name": "Python 3 (ipykernel)",
   "language": "python",
   "name": "python3"
  },
  "language_info": {
   "codemirror_mode": {
    "name": "ipython",
    "version": 3
   },
   "file_extension": ".py",
   "mimetype": "text/x-python",
   "name": "python",
   "nbconvert_exporter": "python",
   "pygments_lexer": "ipython3",
   "version": "3.9.13"
  }
 },
 "nbformat": 4,
 "nbformat_minor": 5
}
