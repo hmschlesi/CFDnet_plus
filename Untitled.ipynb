{
 "cells": [
  {
   "cell_type": "code",
   "execution_count": 1,
   "id": "6cfb2ea2",
   "metadata": {},
   "outputs": [],
   "source": [
    "    import numpy as np\n",
    "    import os\n",
    "    import meshio\n",
    "    import re\n",
    "    from scipy.interpolate import griddata\n",
    "    from scipy import interpolate "
   ]
  },
  {
   "cell_type": "code",
   "execution_count": 8,
   "id": "0d6a002e",
   "metadata": {},
   "outputs": [],
   "source": [
    "mainfolder='airfoil2d/airFoil_500/'\n",
    "\n",
    "data=np.load(mainfolder+'pred.npy')\n",
    "\n",
    "fields= ['U','p','k','omega', 'nut']\n",
    "\n",
    "pred_xlim =[-50,50]\n",
    "pred_ylim = [-20 , 20]"
   ]
  },
  {
   "cell_type": "code",
   "execution_count": 4,
   "id": "04fa4e3f",
   "metadata": {},
   "outputs": [],
   "source": [
    "path2dst='airfoil2d/airFoil_500/41'\n",
    "path2folder='airfoil2d/airFoil_500/0'"
   ]
  },
  {
   "cell_type": "code",
   "execution_count": 18,
   "id": "8e3b7d1a",
   "metadata": {},
   "outputs": [],
   "source": [
    "main_split=mainfolder.split('/')\n",
    "mainfolder_mesh=mainfolder+'/VTK/'+main_split[1]+'_0/'+'internal.vtu'\n",
    "\n",
    "folder_pred=mainfolder+'/pred.npy'\n",
    "pred=np.load(folder_pred)\n",
    "\n",
    "[a,y_steps, x_steps,layers]=pred.shape\n",
    "\n",
    "# loads the mesh and splits all relevant info into seperate variables\n",
    "mesh=meshio.read(mainfolder_mesh)\n",
    "\n",
    "cell_ptsid=mesh.cells_dict\n",
    "\n",
    "#what happens if the mesh is not only hexahedron?\n",
    "cell_ptsid=np.array(cell_ptsid['hexahedron'])\n",
    "\n",
    "points = mesh.points\n",
    "cell_pts=points[cell_ptsid[:,:]]\n",
    "# finds center of each cell\n",
    "centroids=np.average(cell_pts,axis=1)\n",
    "\n",
    "    #export to Openfoam field files\n",
    "x = np.arange(pred_xlim[0],pred_xlim[1], (pred_xlim[1]-pred_xlim[0])/x_steps)\n",
    "y = np.arange(pred_ylim[0],pred_ylim[1], (pred_ylim[1]-pred_ylim[0])/y_steps)\n",
    "    #!!!!!!!!!!ts is the last time step, here its still hardcoded in the code, needs to be dynamic!!\n",
    "ts=40"
   ]
  },
  {
   "cell_type": "code",
   "execution_count": 19,
   "id": "3cb5eb3c",
   "metadata": {},
   "outputs": [
    {
     "name": "stdout",
     "output_type": "stream",
     "text": [
      "write airfoil2d/airFoil_500/41/U\n",
      "\n",
      "(1, 10720, 1)\n",
      "(1, 10720, 1)\n",
      "(1, 10720, 1)\n",
      "[[[ 2.55676099e+01  9.09338625e+00 -9.08792028e-02]\n",
      "  [ 2.55676099e+01  9.09338625e+00 -9.08792028e-02]\n",
      "  [ 2.55676099e+01  9.09338625e+00 -9.08792028e-02]\n",
      "  ...\n",
      "  [ 2.75041243e+02 -3.15702409e+00 -2.94567556e-02]\n",
      "  [ 2.75041243e+02 -3.15702409e+00 -2.94567556e-02]\n",
      "  [ 2.75041243e+02 -3.15702409e+00 -2.94567556e-02]]]\n"
     ]
    },
    {
     "ename": "FileNotFoundError",
     "evalue": "[Errno 2] No such file or directory: 'airfoil2d/airFoil_500/41/U'",
     "output_type": "error",
     "traceback": [
      "\u001b[1;31m---------------------------------------------------------------------------\u001b[0m",
      "\u001b[1;31mFileNotFoundError\u001b[0m                         Traceback (most recent call last)",
      "Cell \u001b[1;32mIn [19], line 48\u001b[0m\n\u001b[0;32m     45\u001b[0m     \u001b[38;5;66;03m# creates a complete list will all lines that need to be written in the field file\u001b[39;00m\n\u001b[0;32m     46\u001b[0m     contents[idx[\u001b[38;5;241m0\u001b[39m]]\u001b[38;5;241m=\u001b[39m\u001b[38;5;124m'\u001b[39m\u001b[38;5;124minternalField   nonuniform List<scalar>\u001b[39m\u001b[38;5;124m'\u001b[39m\u001b[38;5;241m+\u001b[39m\u001b[38;5;124m'\u001b[39m\u001b[38;5;130;01m\\n\u001b[39;00m\u001b[38;5;124m'\u001b[39m\u001b[38;5;241m+\u001b[39m\u001b[38;5;28mstr\u001b[39m(np\u001b[38;5;241m.\u001b[39marray(centroids)\u001b[38;5;241m.\u001b[39mshape[\u001b[38;5;241m0\u001b[39m])\u001b[38;5;241m+\u001b[39m\u001b[38;5;124m'\u001b[39m\u001b[38;5;130;01m\\n\u001b[39;00m\u001b[38;5;124m'\u001b[39m\u001b[38;5;241m+\u001b[39m\u001b[38;5;124m'\u001b[39m\u001b[38;5;124m(\u001b[39m\u001b[38;5;124m'\u001b[39m\u001b[38;5;241m+\u001b[39mstring\u001b[38;5;241m+\u001b[39m\u001b[38;5;124m'\u001b[39m\u001b[38;5;124m);\u001b[39m\u001b[38;5;124m'\u001b[39m\n\u001b[1;32m---> 48\u001b[0m \u001b[38;5;28;01mwith\u001b[39;00m \u001b[38;5;28mopen\u001b[39m(path2dst\u001b[38;5;241m+\u001b[39m\u001b[38;5;124m'\u001b[39m\u001b[38;5;124m/\u001b[39m\u001b[38;5;124m'\u001b[39m\u001b[38;5;241m+\u001b[39mfield,\u001b[38;5;124m\"\u001b[39m\u001b[38;5;124mw\u001b[39m\u001b[38;5;124m\"\u001b[39m) \u001b[38;5;28;01mas\u001b[39;00m f:\n\u001b[0;32m     49\u001b[0m     f\u001b[38;5;241m.\u001b[39mwritelines(contents)\n\u001b[0;32m     50\u001b[0m i\u001b[38;5;241m=\u001b[39mi\u001b[38;5;241m+\u001b[39m\u001b[38;5;241m1\u001b[39m\n",
      "\u001b[1;31mFileNotFoundError\u001b[0m: [Errno 2] No such file or directory: 'airfoil2d/airFoil_500/41/U'"
     ]
    }
   ],
   "source": [
    "   i=0\n",
    "for field in fields:\n",
    "        print('write ' + path2dst+'/'+field)\n",
    "        with open(path2folder+'/'+field,\"r\") as f:\n",
    "            contents=f.readlines()\n",
    "        idx = [j for j, item in enumerate(contents) if re.search('internalField   ', item)]\n",
    "        \n",
    "        if field == 'U':\n",
    "            U=np.empty((1,centroids.shape[0],0))\n",
    "            print()\n",
    "            for it in range(3):\n",
    "                \n",
    "                znew=[]\n",
    "                znew.append( interpolate.interpn((x, y) , np.transpose(pred[:,:,:,it]), centroids[:,0:2],\n",
    "                                    bounds_error=False,\n",
    "                                    method='nearest',\n",
    "                                    fill_value=None,\n",
    "                                    ))\n",
    "                znew=np.array(znew)\n",
    "                print(znew.shape)\n",
    "                U=np.concatenate((U,znew),axis=2)\n",
    "            \n",
    "            #iterates through the vertices and saves the corresponding values\n",
    "            print(U[:,:,:])\n",
    "            string=''\n",
    "            for j in range(centroids.shape[0]):\n",
    "                string = string +'('+ str(U[0,j,0]) + ' '+str(U[0,j,1])+ ' '+ str(U[0,j,2])+')''\\n'\n",
    "            # creates a complete list will all lines that need to be written in the field file\n",
    "            contents[idx[0]]='internalField   nonuniform List<vector>'+'\\n'+str(np.array(centroids).shape[0])+'\\n'+'('+string+');'\n",
    "            \n",
    "        else:\n",
    "            znew=[]\n",
    "            znew.append( interpolate.interpn((x, y) , np.transpose(pred[:,:,:,i+2]), centroids[:,0:2],\n",
    "                                    bounds_error=False,\n",
    "                                    method='nearest',\n",
    "                                    fill_value=None,\n",
    "                                    ))\n",
    "            znew=np.array(znew)\n",
    "            \n",
    "            #iterates through the vertices and saves the corresponding values\n",
    "            string=''\n",
    "            for j in range(centroids.shape[0]):\n",
    "                string = string + str(znew[0,j,0]) + '\\n'\n",
    "            \n",
    "            # creates a complete list will all lines that need to be written in the field file\n",
    "            contents[idx[0]]='internalField   nonuniform List<scalar>'+'\\n'+str(np.array(centroids).shape[0])+'\\n'+'('+string+');'\n",
    "            \n",
    "        with open(path2dst+'/'+field,\"w\") as f:\n",
    "            f.writelines(contents)\n",
    "        i=i+1"
   ]
  },
  {
   "cell_type": "code",
   "execution_count": null,
   "id": "6806059b",
   "metadata": {},
   "outputs": [],
   "source": []
  }
 ],
 "metadata": {
  "kernelspec": {
   "display_name": "Python 3 (ipykernel)",
   "language": "python",
   "name": "python3"
  },
  "language_info": {
   "codemirror_mode": {
    "name": "ipython",
    "version": 3
   },
   "file_extension": ".py",
   "mimetype": "text/x-python",
   "name": "python",
   "nbconvert_exporter": "python",
   "pygments_lexer": "ipython3",
   "version": "3.9.13"
  }
 },
 "nbformat": 4,
 "nbformat_minor": 5
}
